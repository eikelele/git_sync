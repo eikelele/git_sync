{
 "cells": [
  {
   "cell_type": "code",
   "execution_count": 1,
   "metadata": {
    "collapsed": true
   },
   "outputs": [],
   "source": [
    "#Methods:\n",
    "#Built-in objects in Python have a variety of methods you can use\n",
    "#Create own objects and methods using OOP in classes\n",
    "myList = [1,2,3]"
   ]
  },
  {
   "cell_type": "code",
   "execution_count": 3,
   "metadata": {},
   "outputs": [],
   "source": [
    "myList.append(4)"
   ]
  },
  {
   "cell_type": "code",
   "execution_count": 4,
   "metadata": {},
   "outputs": [
    {
     "data": {
      "text/plain": [
       "4"
      ]
     },
     "execution_count": 4,
     "metadata": {},
     "output_type": "execute_result"
    }
   ],
   "source": [
    "myList.pop()"
   ]
  },
  {
   "cell_type": "code",
   "execution_count": 5,
   "metadata": {},
   "outputs": [
    {
     "name": "stdout",
     "output_type": "stream",
     "text": [
      "Help on built-in function insert:\n",
      "\n",
      "insert(...) method of builtins.list instance\n",
      "    L.insert(index, object) -- insert object before index\n",
      "\n"
     ]
    }
   ],
   "source": [
    "#Hit TAB to get all methods for this object... Hit Shift + TAB to get help to this method, when it's new.\n",
    "help(myList.insert)"
   ]
  },
  {
   "cell_type": "code",
   "execution_count": 7,
   "metadata": {
    "collapsed": true
   },
   "outputs": [],
   "source": [
    "#Use the documentation docs.python.org/library"
   ]
  },
  {
   "cell_type": "code",
   "execution_count": 9,
   "metadata": {
    "collapsed": true
   },
   "outputs": [],
   "source": [
    "#Functions: Functions can be used to call blocks of code without coding them again and again -> Make a function call\n",
    "\n",
    "# def name_of_function(parameter):\n",
    "    # ...Docstring expalains the function\n",
    "    #print('Hello world' + parameter)\n",
    "    \n",
    "#Function call:   \n",
    "#>>name_of_function(parameter)\n",
    "#>> Hello World\n",
    "\n",
    "#Use return instead of using print... Allows to assign the output of the function to a new variable"
   ]
  },
  {
   "cell_type": "code",
   "execution_count": 13,
   "metadata": {},
   "outputs": [
    {
     "name": "stdout",
     "output_type": "stream",
     "text": [
      "3\n"
     ]
    }
   ],
   "source": [
    "#First python function:\n",
    "def add_function(num1,num2):\n",
    "    return num1+num2\n",
    "\n",
    "result=add_function(1,2) #result = num1+num2=1+2=3\n",
    "\n",
    "print(result)"
   ]
  },
  {
   "cell_type": "code",
   "execution_count": 18,
   "metadata": {},
   "outputs": [
    {
     "name": "stdout",
     "output_type": "stream",
     "text": [
      "Hello, Eike!\n"
     ]
    }
   ],
   "source": [
    "def name_function(name):\n",
    "    '''\n",
    "    DOCSTRING: Information about the function\n",
    "    INPUT: name of user\n",
    "    OUTPUT: welcome message\n",
    "    '''\n",
    "    myString = f'Hello, {name}!'\n",
    "    return myString\n",
    "welcome = name_function('Eike')\n",
    "print(welcome)"
   ]
  },
  {
   "cell_type": "code",
   "execution_count": 19,
   "metadata": {},
   "outputs": [
    {
     "name": "stdout",
     "output_type": "stream",
     "text": [
      "Help on function name_function in module __main__:\n",
      "\n",
      "name_function(name)\n",
      "    DOCSTRING: Information about the function\n",
      "    INPUT: name of user\n",
      "    OUTPUT: welcome message\n",
      "\n"
     ]
    }
   ],
   "source": [
    "help(name_function)"
   ]
  },
  {
   "cell_type": "code",
   "execution_count": 28,
   "metadata": {},
   "outputs": [
    {
     "data": {
      "text/plain": [
       "'Hello NAME'"
      ]
     },
     "execution_count": 28,
     "metadata": {},
     "output_type": "execute_result"
    }
   ],
   "source": [
    "def say_hello(name = 'NAME'):\n",
    "    return 'Hello ' + name\n",
    "#defalt for name    \n",
    "say_hello()"
   ]
  },
  {
   "cell_type": "code",
   "execution_count": 29,
   "metadata": {},
   "outputs": [
    {
     "data": {
      "text/plain": [
       "'Hello Eike'"
      ]
     },
     "execution_count": 29,
     "metadata": {},
     "output_type": "execute_result"
    }
   ],
   "source": [
    "say_hello('Eike')"
   ]
  },
  {
   "cell_type": "code",
   "execution_count": 31,
   "metadata": {},
   "outputs": [
    {
     "data": {
      "text/plain": [
       "45"
      ]
     },
     "execution_count": 31,
     "metadata": {},
     "output_type": "execute_result"
    }
   ],
   "source": [
    "#You need to use return because the function would not save anything... it just prints ->\n",
    "def add_function(n1,n2):\n",
    "    return n1+n2\n",
    "addResult = add_function(20,25)\n",
    "addResult"
   ]
  },
  {
   "cell_type": "code",
   "execution_count": 44,
   "metadata": {},
   "outputs": [
    {
     "data": {
      "text/plain": [
       "True"
      ]
     },
     "execution_count": 44,
     "metadata": {},
     "output_type": "execute_result"
    }
   ],
   "source": [
    "#no need of if/else because in gives back a boolean type True/False\n",
    "\n",
    "def word_finder(my_string):\n",
    "    return 'dog' in my_string.lower()  \n",
    "\n",
    "word_finder('My Dog ran away')"
   ]
  },
  {
   "cell_type": "code",
   "execution_count": 49,
   "metadata": {},
   "outputs": [
    {
     "data": {
      "text/plain": [
       "'appleay'"
      ]
     },
     "execution_count": 49,
     "metadata": {},
     "output_type": "execute_result"
    }
   ],
   "source": [
    "#PIG LATIN: if word starts with a vowel add 'ay' to end, if not first letter to end + 'ay'\n",
    "\n",
    "def pig_latin(word):\n",
    "    first_letter = word[0]\n",
    "    # check if vowel\n",
    "    if first_letter in 'aeiou':\n",
    "        pig_word = word + 'ay'\n",
    "    else:\n",
    "        pig_word = word[1:] + first_letter + 'ay'\n",
    "    return pig_word\n",
    "\n",
    "pig_latin('apple')\n"
   ]
  },
  {
   "cell_type": "code",
   "execution_count": null,
   "metadata": {
    "collapsed": true
   },
   "outputs": [],
   "source": []
  }
 ],
 "metadata": {
  "kernelspec": {
   "display_name": "Python 3",
   "language": "python",
   "name": "python3"
  },
  "language_info": {
   "codemirror_mode": {
    "name": "ipython",
    "version": 3
   },
   "file_extension": ".py",
   "mimetype": "text/x-python",
   "name": "python",
   "nbconvert_exporter": "python",
   "pygments_lexer": "ipython3",
   "version": "3.6.1"
  }
 },
 "nbformat": 4,
 "nbformat_minor": 2
}
